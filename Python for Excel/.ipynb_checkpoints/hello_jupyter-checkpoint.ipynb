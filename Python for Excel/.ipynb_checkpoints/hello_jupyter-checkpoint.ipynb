{
 "cells": [
  {
   "cell_type": "markdown",
   "id": "dea442f2",
   "metadata": {},
   "source": [
    "\n",
    "# NumPy Multi dimensional arrays"
   ]
  },
  {
   "cell_type": "code",
   "execution_count": 2,
   "id": "40d06fed",
   "metadata": {},
   "outputs": [],
   "source": [
    "import numpy as np"
   ]
  },
  {
   "cell_type": "code",
   "execution_count": 3,
   "id": "7e17bfb2",
   "metadata": {},
   "outputs": [],
   "source": [
    "#array de 1 dimension\n",
    "array1 = np.array([10, 100, 1000])"
   ]
  },
  {
   "cell_type": "code",
   "execution_count": 4,
   "id": "cda76140",
   "metadata": {},
   "outputs": [],
   "source": [
    "array2 = np.array([[1,2,3], [4,5,6]])"
   ]
  },
  {
   "cell_type": "code",
   "execution_count": 5,
   "id": "bb53eb38",
   "metadata": {},
   "outputs": [
    {
     "data": {
      "text/plain": [
       "dtype('int32')"
      ]
     },
     "execution_count": 5,
     "metadata": {},
     "output_type": "execute_result"
    }
   ],
   "source": [
    "#array1 continene dos int y un float por lo que numpy transforma todos los valores a float 64 para poder antener la integridad\n",
    "array1.dtype"
   ]
  },
  {
   "cell_type": "code",
   "execution_count": 6,
   "id": "8f251844",
   "metadata": {},
   "outputs": [
    {
     "data": {
      "text/plain": [
       "10.0"
      ]
     },
     "execution_count": 6,
     "metadata": {},
     "output_type": "execute_result"
    }
   ],
   "source": [
    "#el contructor float transforma el float64 (estructura de numpy) a float (estructura de python)\n",
    "float(array1[0])"
   ]
  },
  {
   "cell_type": "markdown",
   "id": "083ca894",
   "metadata": {},
   "source": [
    "## List comprehension"
   ]
  },
  {
   "cell_type": "code",
   "execution_count": 7,
   "id": "3e5863a0",
   "metadata": {},
   "outputs": [
    {
     "data": {
      "text/plain": [
       "[[11], [101], [1001]]"
      ]
     },
     "execution_count": 7,
     "metadata": {},
     "output_type": "execute_result"
    }
   ],
   "source": [
    "#list comprehension for\n",
    "[[i + 1]for i in array1]"
   ]
  },
  {
   "cell_type": "markdown",
   "id": "c605a384",
   "metadata": {},
   "source": [
    "## Vectorization, Broadcast, Scalars"
   ]
  },
  {
   "cell_type": "code",
   "execution_count": 8,
   "id": "3e0c48f8",
   "metadata": {},
   "outputs": [
    {
     "data": {
      "text/plain": [
       "array([  11,  101, 1001])"
      ]
     },
     "execution_count": 8,
     "metadata": {},
     "output_type": "execute_result"
    }
   ],
   "source": [
    "#Vectorization es el acto de operar de un scalar (un string, float unico. No una data structure u objeto de 1 o dos \n",
    "#domensiones como una lista) con unobjeto como una lista. puedo hacer array1 + 1 y obtener cada elemento +1 sin iterar  \n",
    "array1 + 1"
   ]
  },
  {
   "cell_type": "code",
   "execution_count": 9,
   "id": "0e58a841",
   "metadata": {},
   "outputs": [
    {
     "data": {
      "text/plain": [
       "array([[  10,  200, 3000],\n",
       "       [  40,  500, 6000]])"
      ]
     },
     "execution_count": 9,
     "metadata": {},
     "output_type": "execute_result"
    }
   ],
   "source": [
    "#broadcasting es el acto de extender el array mas corto sobre el mas largo para mantener la compatibilidad de las formas \n",
    "#de ambos arrarys\n",
    "\n",
    "array1 * array2"
   ]
  },
  {
   "cell_type": "markdown",
   "id": "61ee5764",
   "metadata": {},
   "source": [
    "## universal functions"
   ]
  },
  {
   "cell_type": "code",
   "execution_count": 10,
   "id": "05ac150c",
   "metadata": {},
   "outputs": [
    {
     "data": {
      "text/plain": [
       "array([ 3.16227766, 10.        , 31.6227766 ])"
      ]
     },
     "execution_count": 10,
     "metadata": {},
     "output_type": "execute_result"
    }
   ],
   "source": [
    "#universal functions (ufunc) son los metodos propios de numpy que reemplazan a las funciones de la standard library de python\n",
    "np.sqrt(array1)\n"
   ]
  },
  {
   "cell_type": "code",
   "execution_count": 11,
   "id": "08fcacc9",
   "metadata": {},
   "outputs": [
    {
     "data": {
      "text/plain": [
       "array([5, 7, 9])"
      ]
     },
     "execution_count": 11,
     "metadata": {},
     "output_type": "execute_result"
    }
   ],
   "source": [
    "#axis 0 hace referencia al eje de las rows mientras que axis 1 es el eje de las columnas. Por lo que array2, axis 0 es \n",
    "# [1, 2, 3]\n",
    "#  +  +  +  \n",
    "# [4, 5, 6]\n",
    "array2.sum(axis=0)"
   ]
  },
  {
   "cell_type": "code",
   "execution_count": 12,
   "id": "0782e37b",
   "metadata": {},
   "outputs": [
    {
     "data": {
      "text/plain": [
       "array([ 6, 15])"
      ]
     },
     "execution_count": 12,
     "metadata": {},
     "output_type": "execute_result"
    }
   ],
   "source": [
    "#array2 axis 1 hace referencia a las columnas, por ende\n",
    "# [1 + 2 + 3], \n",
    "# [4 + 5 + 6]\n",
    "array2.sum(axis=1)"
   ]
  },
  {
   "cell_type": "markdown",
   "id": "186e09c8",
   "metadata": {},
   "source": [
    "## slice arrays"
   ]
  },
  {
   "cell_type": "code",
   "execution_count": 13,
   "id": "57e10b22",
   "metadata": {},
   "outputs": [
    {
     "data": {
      "text/plain": [
       "1000"
      ]
     },
     "execution_count": 13,
     "metadata": {},
     "output_type": "execute_result"
    }
   ],
   "source": [
    "#En vez de los indices (o cadena de indices) se utiliza el indice y el argumento con el que se va a hacer el slice\n",
    "array1[2]"
   ]
  },
  {
   "cell_type": "code",
   "execution_count": 14,
   "id": "e87ea6af",
   "metadata": {},
   "outputs": [
    {
     "data": {
      "text/plain": [
       "1"
      ]
     },
     "execution_count": 14,
     "metadata": {},
     "output_type": "execute_result"
    }
   ],
   "source": [
    "array2[0,0]"
   ]
  },
  {
   "cell_type": "code",
   "execution_count": 15,
   "id": "698611f3",
   "metadata": {},
   "outputs": [
    {
     "data": {
      "text/plain": [
       "array([2, 5])"
      ]
     },
     "execution_count": 15,
     "metadata": {},
     "output_type": "execute_result"
    }
   ],
   "source": [
    "array2[:,1]"
   ]
  },
  {
   "cell_type": "code",
   "execution_count": 16,
   "id": "ec5a01b0",
   "metadata": {},
   "outputs": [
    {
     "data": {
      "text/plain": [
       "array([4, 5])"
      ]
     },
     "execution_count": 16,
     "metadata": {},
     "output_type": "execute_result"
    }
   ],
   "source": [
    "array2[1, :2]"
   ]
  },
  {
   "cell_type": "code",
   "execution_count": 17,
   "id": "28286ee7",
   "metadata": {},
   "outputs": [
    {
     "data": {
      "text/plain": [
       "array([1, 2])"
      ]
     },
     "execution_count": 17,
     "metadata": {},
     "output_type": "execute_result"
    }
   ],
   "source": [
    "array2[0, :2]"
   ]
  },
  {
   "cell_type": "markdown",
   "id": "a7818d70",
   "metadata": {},
   "source": [
    "## Constructores utiles"
   ]
  },
  {
   "cell_type": "code",
   "execution_count": 18,
   "id": "ff66b6be",
   "metadata": {},
   "outputs": [
    {
     "data": {
      "text/plain": [
       "array([[0, 1, 2, 3, 4],\n",
       "       [5, 6, 7, 8, 9]])"
      ]
     },
     "execution_count": 18,
     "metadata": {},
     "output_type": "execute_result"
    }
   ],
   "source": [
    "#arange es range de python pero devuelve un objeto de numpy instead. combinado con reshape se puede crear nu arrar\n",
    "#con dimensiones que se deseen\n",
    "\n",
    "np.arange(2*5).reshape(2,5) # 2 rows, 5 cols "
   ]
  },
  {
   "cell_type": "code",
   "execution_count": 19,
   "id": "10a2133f",
   "metadata": {},
   "outputs": [
    {
     "data": {
      "text/plain": [
       "array([[ 0.94867856,  1.10589409,  0.52665027],\n",
       "       [ 0.02097413,  0.54535971, -0.71233117]])"
      ]
     },
     "execution_count": 19,
     "metadata": {},
     "output_type": "execute_result"
    }
   ],
   "source": [
    "#random \n",
    "np.random.randn(2, 3) #2 rows, 3 cols"
   ]
  },
  {
   "cell_type": "code",
   "execution_count": 20,
   "id": "8b0163ef",
   "metadata": {},
   "outputs": [
    {
     "data": {
      "text/plain": [
       "array([0., 0.])"
      ]
     },
     "execution_count": 20,
     "metadata": {},
     "output_type": "execute_result"
    }
   ],
   "source": [
    "np.zeros(2)"
   ]
  },
  {
   "cell_type": "code",
   "execution_count": 21,
   "id": "6875bc5e",
   "metadata": {},
   "outputs": [
    {
     "data": {
      "text/plain": [
       "array([1., 1.])"
      ]
     },
     "execution_count": 21,
     "metadata": {},
     "output_type": "execute_result"
    }
   ],
   "source": [
    "np.ones(2)"
   ]
  },
  {
   "cell_type": "markdown",
   "id": "d96f876f",
   "metadata": {},
   "source": [
    "## view vs copy"
   ]
  },
  {
   "cell_type": "code",
   "execution_count": 22,
   "id": "c99f6ca8",
   "metadata": {},
   "outputs": [
    {
     "data": {
      "text/plain": [
       "array([[1, 2, 3],\n",
       "       [4, 5, 6]])"
      ]
     },
     "execution_count": 22,
     "metadata": {},
     "output_type": "execute_result"
    }
   ],
   "source": [
    "#numpy devuelve una view cuando se hace un slice de un array. Cambiar el view tambien afecta el valor original\n",
    "array2"
   ]
  },
  {
   "cell_type": "code",
   "execution_count": 23,
   "id": "448beffc",
   "metadata": {},
   "outputs": [
    {
     "data": {
      "text/plain": [
       "array([[1, 2],\n",
       "       [4, 5]])"
      ]
     },
     "execution_count": 23,
     "metadata": {},
     "output_type": "execute_result"
    }
   ],
   "source": [
    "subset = array2[:,:2]\n",
    "subset"
   ]
  },
  {
   "cell_type": "code",
   "execution_count": 24,
   "id": "25795853",
   "metadata": {},
   "outputs": [
    {
     "data": {
      "text/plain": [
       "array([[1000,    2],\n",
       "       [   4,    5]])"
      ]
     },
     "execution_count": 24,
     "metadata": {},
     "output_type": "execute_result"
    }
   ],
   "source": [
    "subset[0,0]=1000\n",
    "subset"
   ]
  },
  {
   "cell_type": "code",
   "execution_count": 25,
   "id": "395d65a7",
   "metadata": {},
   "outputs": [
    {
     "data": {
      "text/plain": [
       "array([[1000,    2,    3],\n",
       "       [   4,    5,    6]])"
      ]
     },
     "execution_count": 25,
     "metadata": {},
     "output_type": "execute_result"
    }
   ],
   "source": [
    "array2"
   ]
  },
  {
   "cell_type": "code",
   "execution_count": 26,
   "id": "4f15a63a",
   "metadata": {},
   "outputs": [],
   "source": [
    "#para que esto no suceda, al momento de hacer el slice (In 83) se debe especificar .copy \n",
    "# subset = array2[:, :2].copy "
   ]
  },
  {
   "cell_type": "markdown",
   "id": "6792585b",
   "metadata": {},
   "source": [
    "## Importar pandas y usar un xlsx"
   ]
  },
  {
   "cell_type": "code",
   "execution_count": 27,
   "id": "77c2fef5",
   "metadata": {},
   "outputs": [],
   "source": [
    "import pandas as pd"
   ]
  },
  {
   "cell_type": "code",
   "execution_count": 28,
   "id": "eae00a82",
   "metadata": {},
   "outputs": [
    {
     "data": {
      "text/html": [
       "<div>\n",
       "<style scoped>\n",
       "    .dataframe tbody tr th:only-of-type {\n",
       "        vertical-align: middle;\n",
       "    }\n",
       "\n",
       "    .dataframe tbody tr th {\n",
       "        vertical-align: top;\n",
       "    }\n",
       "\n",
       "    .dataframe thead th {\n",
       "        text-align: right;\n",
       "    }\n",
       "</style>\n",
       "<table border=\"1\" class=\"dataframe\">\n",
       "  <thead>\n",
       "    <tr style=\"text-align: right;\">\n",
       "      <th></th>\n",
       "      <th>user_id</th>\n",
       "      <th>name</th>\n",
       "      <th>age</th>\n",
       "      <th>country</th>\n",
       "      <th>score</th>\n",
       "      <th>continent</th>\n",
       "    </tr>\n",
       "  </thead>\n",
       "  <tbody>\n",
       "    <tr>\n",
       "      <th>0</th>\n",
       "      <td>1001</td>\n",
       "      <td>Mark</td>\n",
       "      <td>55</td>\n",
       "      <td>Italy</td>\n",
       "      <td>4.5</td>\n",
       "      <td>Europe</td>\n",
       "    </tr>\n",
       "    <tr>\n",
       "      <th>1</th>\n",
       "      <td>1000</td>\n",
       "      <td>John</td>\n",
       "      <td>33</td>\n",
       "      <td>USA</td>\n",
       "      <td>6.7</td>\n",
       "      <td>America</td>\n",
       "    </tr>\n",
       "    <tr>\n",
       "      <th>2</th>\n",
       "      <td>1002</td>\n",
       "      <td>Tim</td>\n",
       "      <td>41</td>\n",
       "      <td>USA</td>\n",
       "      <td>3.9</td>\n",
       "      <td>America</td>\n",
       "    </tr>\n",
       "    <tr>\n",
       "      <th>3</th>\n",
       "      <td>1003</td>\n",
       "      <td>Jenny</td>\n",
       "      <td>12</td>\n",
       "      <td>Germany</td>\n",
       "      <td>9.0</td>\n",
       "      <td>Europe</td>\n",
       "    </tr>\n",
       "  </tbody>\n",
       "</table>\n",
       "</div>"
      ],
      "text/plain": [
       "   user_id   name  age  country  score continent\n",
       "0     1001   Mark   55    Italy    4.5    Europe\n",
       "1     1000   John   33      USA    6.7   America\n",
       "2     1002    Tim   41      USA    3.9   America\n",
       "3     1003  Jenny   12  Germany    9.0    Europe"
      ]
     },
     "execution_count": 28,
     "metadata": {},
     "output_type": "execute_result"
    }
   ],
   "source": [
    "pd.read_excel(\"extras/xl/course_participants.xlsx\")"
   ]
  },
  {
   "cell_type": "markdown",
   "id": "c8f42619",
   "metadata": {},
   "source": [
    "## ingreso manual de data"
   ]
  },
  {
   "cell_type": "code",
   "execution_count": 29,
   "id": "53307bec",
   "metadata": {},
   "outputs": [],
   "source": [
    "data = [[\"mark\", 55, \"Italy\", 4.5, \"Europe\"], [\"john\", 33, \"usa\", 6.7, \"america\"], [\"tim\", 41, \"usa\", 5.5, \"america\"],\n",
    "        [\"alan\", 40, \"australia\", 5.9, \"oceania\"], [\"jorge\", 29, \"argentina\", 7.5, \"america\"]]\n",
    "df = pd.DataFrame(data=data, \n",
    "                  columns = [\"name\", \"age\", \"country\", \"score\", \"continent\"], index=[1001,1002,1003,1004,1005])\n",
    "df.index.name = \"user_id\""
   ]
  },
  {
   "cell_type": "code",
   "execution_count": 30,
   "id": "b7deede2",
   "metadata": {},
   "outputs": [
    {
     "data": {
      "text/html": [
       "<div>\n",
       "<style scoped>\n",
       "    .dataframe tbody tr th:only-of-type {\n",
       "        vertical-align: middle;\n",
       "    }\n",
       "\n",
       "    .dataframe tbody tr th {\n",
       "        vertical-align: top;\n",
       "    }\n",
       "\n",
       "    .dataframe thead th {\n",
       "        text-align: right;\n",
       "    }\n",
       "</style>\n",
       "<table border=\"1\" class=\"dataframe\">\n",
       "  <thead>\n",
       "    <tr style=\"text-align: right;\">\n",
       "      <th></th>\n",
       "      <th>name</th>\n",
       "      <th>age</th>\n",
       "      <th>country</th>\n",
       "      <th>score</th>\n",
       "      <th>continent</th>\n",
       "    </tr>\n",
       "    <tr>\n",
       "      <th>user_id</th>\n",
       "      <th></th>\n",
       "      <th></th>\n",
       "      <th></th>\n",
       "      <th></th>\n",
       "      <th></th>\n",
       "    </tr>\n",
       "  </thead>\n",
       "  <tbody>\n",
       "    <tr>\n",
       "      <th>1001</th>\n",
       "      <td>mark</td>\n",
       "      <td>55</td>\n",
       "      <td>Italy</td>\n",
       "      <td>4.5</td>\n",
       "      <td>Europe</td>\n",
       "    </tr>\n",
       "    <tr>\n",
       "      <th>1002</th>\n",
       "      <td>john</td>\n",
       "      <td>33</td>\n",
       "      <td>usa</td>\n",
       "      <td>6.7</td>\n",
       "      <td>america</td>\n",
       "    </tr>\n",
       "    <tr>\n",
       "      <th>1003</th>\n",
       "      <td>tim</td>\n",
       "      <td>41</td>\n",
       "      <td>usa</td>\n",
       "      <td>5.5</td>\n",
       "      <td>america</td>\n",
       "    </tr>\n",
       "    <tr>\n",
       "      <th>1004</th>\n",
       "      <td>alan</td>\n",
       "      <td>40</td>\n",
       "      <td>australia</td>\n",
       "      <td>5.9</td>\n",
       "      <td>oceania</td>\n",
       "    </tr>\n",
       "    <tr>\n",
       "      <th>1005</th>\n",
       "      <td>jorge</td>\n",
       "      <td>29</td>\n",
       "      <td>argentina</td>\n",
       "      <td>7.5</td>\n",
       "      <td>america</td>\n",
       "    </tr>\n",
       "  </tbody>\n",
       "</table>\n",
       "</div>"
      ],
      "text/plain": [
       "          name  age    country  score continent\n",
       "user_id                                        \n",
       "1001      mark   55      Italy    4.5    Europe\n",
       "1002      john   33        usa    6.7   america\n",
       "1003       tim   41        usa    5.5   america\n",
       "1004      alan   40  australia    5.9   oceania\n",
       "1005     jorge   29  argentina    7.5   america"
      ]
     },
     "execution_count": 30,
     "metadata": {},
     "output_type": "execute_result"
    }
   ],
   "source": [
    "df"
   ]
  },
  {
   "cell_type": "code",
   "execution_count": 31,
   "id": "22cc6ffe",
   "metadata": {},
   "outputs": [
    {
     "data": {
      "text/plain": [
       "Int64Index([1001, 1002, 1003, 1004, 1005], dtype='int64', name='user_id')"
      ]
     },
     "execution_count": 31,
     "metadata": {},
     "output_type": "execute_result"
    }
   ],
   "source": [
    "df.index"
   ]
  },
  {
   "cell_type": "code",
   "execution_count": 32,
   "id": "c357546d",
   "metadata": {},
   "outputs": [
    {
     "data": {
      "text/html": [
       "<div>\n",
       "<style scoped>\n",
       "    .dataframe tbody tr th:only-of-type {\n",
       "        vertical-align: middle;\n",
       "    }\n",
       "\n",
       "    .dataframe tbody tr th {\n",
       "        vertical-align: top;\n",
       "    }\n",
       "\n",
       "    .dataframe thead th {\n",
       "        text-align: right;\n",
       "    }\n",
       "</style>\n",
       "<table border=\"1\" class=\"dataframe\">\n",
       "  <thead>\n",
       "    <tr style=\"text-align: right;\">\n",
       "      <th></th>\n",
       "      <th>name</th>\n",
       "      <th>age</th>\n",
       "      <th>country</th>\n",
       "      <th>score</th>\n",
       "      <th>continent</th>\n",
       "    </tr>\n",
       "    <tr>\n",
       "      <th>user_id</th>\n",
       "      <th></th>\n",
       "      <th></th>\n",
       "      <th></th>\n",
       "      <th></th>\n",
       "      <th></th>\n",
       "    </tr>\n",
       "  </thead>\n",
       "  <tbody>\n",
       "    <tr>\n",
       "      <th>1001</th>\n",
       "      <td>mark</td>\n",
       "      <td>55</td>\n",
       "      <td>Italy</td>\n",
       "      <td>4.5</td>\n",
       "      <td>Europe</td>\n",
       "    </tr>\n",
       "    <tr>\n",
       "      <th>1002</th>\n",
       "      <td>john</td>\n",
       "      <td>33</td>\n",
       "      <td>usa</td>\n",
       "      <td>6.7</td>\n",
       "      <td>america</td>\n",
       "    </tr>\n",
       "    <tr>\n",
       "      <th>1003</th>\n",
       "      <td>tim</td>\n",
       "      <td>41</td>\n",
       "      <td>usa</td>\n",
       "      <td>5.5</td>\n",
       "      <td>america</td>\n",
       "    </tr>\n",
       "    <tr>\n",
       "      <th>1004</th>\n",
       "      <td>alan</td>\n",
       "      <td>40</td>\n",
       "      <td>australia</td>\n",
       "      <td>5.9</td>\n",
       "      <td>oceania</td>\n",
       "    </tr>\n",
       "    <tr>\n",
       "      <th>1005</th>\n",
       "      <td>jorge</td>\n",
       "      <td>29</td>\n",
       "      <td>argentina</td>\n",
       "      <td>7.5</td>\n",
       "      <td>america</td>\n",
       "    </tr>\n",
       "  </tbody>\n",
       "</table>\n",
       "</div>"
      ],
      "text/plain": [
       "          name  age    country  score continent\n",
       "user_id                                        \n",
       "1001      mark   55      Italy    4.5    Europe\n",
       "1002      john   33        usa    6.7   america\n",
       "1003       tim   41        usa    5.5   america\n",
       "1004      alan   40  australia    5.9   oceania\n",
       "1005     jorge   29  argentina    7.5   america"
      ]
     },
     "execution_count": 32,
     "metadata": {},
     "output_type": "execute_result"
    }
   ],
   "source": [
    "df.sort_index()"
   ]
  },
  {
   "cell_type": "code",
   "execution_count": 33,
   "id": "b50209dd",
   "metadata": {},
   "outputs": [
    {
     "data": {
      "text/html": [
       "<div>\n",
       "<style scoped>\n",
       "    .dataframe tbody tr th:only-of-type {\n",
       "        vertical-align: middle;\n",
       "    }\n",
       "\n",
       "    .dataframe tbody tr th {\n",
       "        vertical-align: top;\n",
       "    }\n",
       "\n",
       "    .dataframe thead th {\n",
       "        text-align: right;\n",
       "    }\n",
       "</style>\n",
       "<table border=\"1\" class=\"dataframe\">\n",
       "  <thead>\n",
       "    <tr style=\"text-align: right;\">\n",
       "      <th></th>\n",
       "      <th>name</th>\n",
       "      <th>age</th>\n",
       "      <th>country</th>\n",
       "      <th>score</th>\n",
       "      <th>continent</th>\n",
       "    </tr>\n",
       "    <tr>\n",
       "      <th>user_id</th>\n",
       "      <th></th>\n",
       "      <th></th>\n",
       "      <th></th>\n",
       "      <th></th>\n",
       "      <th></th>\n",
       "    </tr>\n",
       "  </thead>\n",
       "  <tbody>\n",
       "    <tr>\n",
       "      <th>1005</th>\n",
       "      <td>jorge</td>\n",
       "      <td>29</td>\n",
       "      <td>argentina</td>\n",
       "      <td>7.5</td>\n",
       "      <td>america</td>\n",
       "    </tr>\n",
       "    <tr>\n",
       "      <th>1002</th>\n",
       "      <td>john</td>\n",
       "      <td>33</td>\n",
       "      <td>usa</td>\n",
       "      <td>6.7</td>\n",
       "      <td>america</td>\n",
       "    </tr>\n",
       "    <tr>\n",
       "      <th>1004</th>\n",
       "      <td>alan</td>\n",
       "      <td>40</td>\n",
       "      <td>australia</td>\n",
       "      <td>5.9</td>\n",
       "      <td>oceania</td>\n",
       "    </tr>\n",
       "    <tr>\n",
       "      <th>1003</th>\n",
       "      <td>tim</td>\n",
       "      <td>41</td>\n",
       "      <td>usa</td>\n",
       "      <td>5.5</td>\n",
       "      <td>america</td>\n",
       "    </tr>\n",
       "    <tr>\n",
       "      <th>1001</th>\n",
       "      <td>mark</td>\n",
       "      <td>55</td>\n",
       "      <td>Italy</td>\n",
       "      <td>4.5</td>\n",
       "      <td>Europe</td>\n",
       "    </tr>\n",
       "  </tbody>\n",
       "</table>\n",
       "</div>"
      ],
      "text/plain": [
       "          name  age    country  score continent\n",
       "user_id                                        \n",
       "1005     jorge   29  argentina    7.5   america\n",
       "1002      john   33        usa    6.7   america\n",
       "1004      alan   40  australia    5.9   oceania\n",
       "1003       tim   41        usa    5.5   america\n",
       "1001      mark   55      Italy    4.5    Europe"
      ]
     },
     "execution_count": 33,
     "metadata": {},
     "output_type": "execute_result"
    }
   ],
   "source": [
    "df.sort_values(\"age\")"
   ]
  },
  {
   "cell_type": "code",
   "execution_count": 34,
   "id": "8c073220",
   "metadata": {},
   "outputs": [
    {
     "data": {
      "text/plain": [
       "Index(['name', 'age', 'country', 'score', 'continent'], dtype='object')"
      ]
     },
     "execution_count": 34,
     "metadata": {},
     "output_type": "execute_result"
    }
   ],
   "source": [
    "df.columns"
   ]
  },
  {
   "cell_type": "code",
   "execution_count": 35,
   "id": "96725e51",
   "metadata": {},
   "outputs": [],
   "source": [
    "df.columns.name = \"properties\""
   ]
  },
  {
   "cell_type": "code",
   "execution_count": 36,
   "id": "37d361f5",
   "metadata": {},
   "outputs": [
    {
     "data": {
      "text/html": [
       "<div>\n",
       "<style scoped>\n",
       "    .dataframe tbody tr th:only-of-type {\n",
       "        vertical-align: middle;\n",
       "    }\n",
       "\n",
       "    .dataframe tbody tr th {\n",
       "        vertical-align: top;\n",
       "    }\n",
       "\n",
       "    .dataframe thead th {\n",
       "        text-align: right;\n",
       "    }\n",
       "</style>\n",
       "<table border=\"1\" class=\"dataframe\">\n",
       "  <thead>\n",
       "    <tr style=\"text-align: right;\">\n",
       "      <th>properties</th>\n",
       "      <th>name</th>\n",
       "      <th>age</th>\n",
       "      <th>country</th>\n",
       "      <th>score</th>\n",
       "      <th>continent</th>\n",
       "    </tr>\n",
       "    <tr>\n",
       "      <th>user_id</th>\n",
       "      <th></th>\n",
       "      <th></th>\n",
       "      <th></th>\n",
       "      <th></th>\n",
       "      <th></th>\n",
       "    </tr>\n",
       "  </thead>\n",
       "  <tbody>\n",
       "    <tr>\n",
       "      <th>1001</th>\n",
       "      <td>mark</td>\n",
       "      <td>55</td>\n",
       "      <td>Italy</td>\n",
       "      <td>4.5</td>\n",
       "      <td>Europe</td>\n",
       "    </tr>\n",
       "    <tr>\n",
       "      <th>1002</th>\n",
       "      <td>john</td>\n",
       "      <td>33</td>\n",
       "      <td>usa</td>\n",
       "      <td>6.7</td>\n",
       "      <td>america</td>\n",
       "    </tr>\n",
       "    <tr>\n",
       "      <th>1003</th>\n",
       "      <td>tim</td>\n",
       "      <td>41</td>\n",
       "      <td>usa</td>\n",
       "      <td>5.5</td>\n",
       "      <td>america</td>\n",
       "    </tr>\n",
       "    <tr>\n",
       "      <th>1004</th>\n",
       "      <td>alan</td>\n",
       "      <td>40</td>\n",
       "      <td>australia</td>\n",
       "      <td>5.9</td>\n",
       "      <td>oceania</td>\n",
       "    </tr>\n",
       "    <tr>\n",
       "      <th>1005</th>\n",
       "      <td>jorge</td>\n",
       "      <td>29</td>\n",
       "      <td>argentina</td>\n",
       "      <td>7.5</td>\n",
       "      <td>america</td>\n",
       "    </tr>\n",
       "  </tbody>\n",
       "</table>\n",
       "</div>"
      ],
      "text/plain": [
       "properties   name  age    country  score continent\n",
       "user_id                                           \n",
       "1001         mark   55      Italy    4.5    Europe\n",
       "1002         john   33        usa    6.7   america\n",
       "1003          tim   41        usa    5.5   america\n",
       "1004         alan   40  australia    5.9   oceania\n",
       "1005        jorge   29  argentina    7.5   america"
      ]
     },
     "execution_count": 36,
     "metadata": {},
     "output_type": "execute_result"
    }
   ],
   "source": [
    "df"
   ]
  },
  {
   "cell_type": "code",
   "execution_count": 37,
   "id": "bc47371d",
   "metadata": {},
   "outputs": [
    {
     "data": {
      "text/html": [
       "<div>\n",
       "<style scoped>\n",
       "    .dataframe tbody tr th:only-of-type {\n",
       "        vertical-align: middle;\n",
       "    }\n",
       "\n",
       "    .dataframe tbody tr th {\n",
       "        vertical-align: top;\n",
       "    }\n",
       "\n",
       "    .dataframe thead th {\n",
       "        text-align: right;\n",
       "    }\n",
       "</style>\n",
       "<table border=\"1\" class=\"dataframe\">\n",
       "  <thead>\n",
       "    <tr style=\"text-align: right;\">\n",
       "      <th>properties</th>\n",
       "      <th>First Name</th>\n",
       "      <th>Age</th>\n",
       "      <th>country</th>\n",
       "      <th>score</th>\n",
       "      <th>continent</th>\n",
       "    </tr>\n",
       "    <tr>\n",
       "      <th>user_id</th>\n",
       "      <th></th>\n",
       "      <th></th>\n",
       "      <th></th>\n",
       "      <th></th>\n",
       "      <th></th>\n",
       "    </tr>\n",
       "  </thead>\n",
       "  <tbody>\n",
       "    <tr>\n",
       "      <th>1001</th>\n",
       "      <td>mark</td>\n",
       "      <td>55</td>\n",
       "      <td>Italy</td>\n",
       "      <td>4.5</td>\n",
       "      <td>Europe</td>\n",
       "    </tr>\n",
       "    <tr>\n",
       "      <th>1002</th>\n",
       "      <td>john</td>\n",
       "      <td>33</td>\n",
       "      <td>usa</td>\n",
       "      <td>6.7</td>\n",
       "      <td>america</td>\n",
       "    </tr>\n",
       "    <tr>\n",
       "      <th>1003</th>\n",
       "      <td>tim</td>\n",
       "      <td>41</td>\n",
       "      <td>usa</td>\n",
       "      <td>5.5</td>\n",
       "      <td>america</td>\n",
       "    </tr>\n",
       "    <tr>\n",
       "      <th>1004</th>\n",
       "      <td>alan</td>\n",
       "      <td>40</td>\n",
       "      <td>australia</td>\n",
       "      <td>5.9</td>\n",
       "      <td>oceania</td>\n",
       "    </tr>\n",
       "    <tr>\n",
       "      <th>1005</th>\n",
       "      <td>jorge</td>\n",
       "      <td>29</td>\n",
       "      <td>argentina</td>\n",
       "      <td>7.5</td>\n",
       "      <td>america</td>\n",
       "    </tr>\n",
       "  </tbody>\n",
       "</table>\n",
       "</div>"
      ],
      "text/plain": [
       "properties First Name  Age    country  score continent\n",
       "user_id                                               \n",
       "1001             mark   55      Italy    4.5    Europe\n",
       "1002             john   33        usa    6.7   america\n",
       "1003              tim   41        usa    5.5   america\n",
       "1004             alan   40  australia    5.9   oceania\n",
       "1005            jorge   29  argentina    7.5   america"
      ]
     },
     "execution_count": 37,
     "metadata": {},
     "output_type": "execute_result"
    }
   ],
   "source": [
    "df.rename(columns={\"name\":\"First Name\", \"age\":\"Age\"})"
   ]
  },
  {
   "cell_type": "code",
   "execution_count": 38,
   "id": "5e33c95c",
   "metadata": {
    "scrolled": true
   },
   "outputs": [
    {
     "data": {
      "text/html": [
       "<div>\n",
       "<style scoped>\n",
       "    .dataframe tbody tr th:only-of-type {\n",
       "        vertical-align: middle;\n",
       "    }\n",
       "\n",
       "    .dataframe tbody tr th {\n",
       "        vertical-align: top;\n",
       "    }\n",
       "\n",
       "    .dataframe thead th {\n",
       "        text-align: right;\n",
       "    }\n",
       "</style>\n",
       "<table border=\"1\" class=\"dataframe\">\n",
       "  <thead>\n",
       "    <tr style=\"text-align: right;\">\n",
       "      <th>properties</th>\n",
       "      <th>age</th>\n",
       "      <th>country</th>\n",
       "      <th>score</th>\n",
       "      <th>continent</th>\n",
       "    </tr>\n",
       "    <tr>\n",
       "      <th>user_id</th>\n",
       "      <th></th>\n",
       "      <th></th>\n",
       "      <th></th>\n",
       "      <th></th>\n",
       "    </tr>\n",
       "  </thead>\n",
       "  <tbody>\n",
       "    <tr>\n",
       "      <th>1001</th>\n",
       "      <td>55</td>\n",
       "      <td>Italy</td>\n",
       "      <td>4.5</td>\n",
       "      <td>Europe</td>\n",
       "    </tr>\n",
       "    <tr>\n",
       "      <th>1002</th>\n",
       "      <td>33</td>\n",
       "      <td>usa</td>\n",
       "      <td>6.7</td>\n",
       "      <td>america</td>\n",
       "    </tr>\n",
       "    <tr>\n",
       "      <th>1003</th>\n",
       "      <td>41</td>\n",
       "      <td>usa</td>\n",
       "      <td>5.5</td>\n",
       "      <td>america</td>\n",
       "    </tr>\n",
       "    <tr>\n",
       "      <th>1004</th>\n",
       "      <td>40</td>\n",
       "      <td>australia</td>\n",
       "      <td>5.9</td>\n",
       "      <td>oceania</td>\n",
       "    </tr>\n",
       "    <tr>\n",
       "      <th>1005</th>\n",
       "      <td>29</td>\n",
       "      <td>argentina</td>\n",
       "      <td>7.5</td>\n",
       "      <td>america</td>\n",
       "    </tr>\n",
       "  </tbody>\n",
       "</table>\n",
       "</div>"
      ],
      "text/plain": [
       "properties  age    country  score continent\n",
       "user_id                                    \n",
       "1001         55      Italy    4.5    Europe\n",
       "1002         33        usa    6.7   america\n",
       "1003         41        usa    5.5   america\n",
       "1004         40  australia    5.9   oceania\n",
       "1005         29  argentina    7.5   america"
      ]
     },
     "execution_count": 38,
     "metadata": {},
     "output_type": "execute_result"
    }
   ],
   "source": [
    "df.drop(columns=[\"name\"])"
   ]
  },
  {
   "cell_type": "code",
   "execution_count": 39,
   "id": "e1bc2a9f",
   "metadata": {
    "scrolled": true
   },
   "outputs": [
    {
     "data": {
      "text/html": [
       "<div>\n",
       "<style scoped>\n",
       "    .dataframe tbody tr th:only-of-type {\n",
       "        vertical-align: middle;\n",
       "    }\n",
       "\n",
       "    .dataframe tbody tr th {\n",
       "        vertical-align: top;\n",
       "    }\n",
       "\n",
       "    .dataframe thead th {\n",
       "        text-align: right;\n",
       "    }\n",
       "</style>\n",
       "<table border=\"1\" class=\"dataframe\">\n",
       "  <thead>\n",
       "    <tr style=\"text-align: right;\">\n",
       "      <th>properties</th>\n",
       "      <th>name</th>\n",
       "      <th>age</th>\n",
       "      <th>country</th>\n",
       "      <th>score</th>\n",
       "      <th>continent</th>\n",
       "    </tr>\n",
       "    <tr>\n",
       "      <th>user_id</th>\n",
       "      <th></th>\n",
       "      <th></th>\n",
       "      <th></th>\n",
       "      <th></th>\n",
       "      <th></th>\n",
       "    </tr>\n",
       "  </thead>\n",
       "  <tbody>\n",
       "    <tr>\n",
       "      <th>1001</th>\n",
       "      <td>mark</td>\n",
       "      <td>55</td>\n",
       "      <td>Italy</td>\n",
       "      <td>4.5</td>\n",
       "      <td>Europe</td>\n",
       "    </tr>\n",
       "    <tr>\n",
       "      <th>1002</th>\n",
       "      <td>john</td>\n",
       "      <td>33</td>\n",
       "      <td>usa</td>\n",
       "      <td>6.7</td>\n",
       "      <td>america</td>\n",
       "    </tr>\n",
       "    <tr>\n",
       "      <th>1003</th>\n",
       "      <td>tim</td>\n",
       "      <td>41</td>\n",
       "      <td>usa</td>\n",
       "      <td>5.5</td>\n",
       "      <td>america</td>\n",
       "    </tr>\n",
       "    <tr>\n",
       "      <th>1004</th>\n",
       "      <td>alan</td>\n",
       "      <td>40</td>\n",
       "      <td>australia</td>\n",
       "      <td>5.9</td>\n",
       "      <td>oceania</td>\n",
       "    </tr>\n",
       "    <tr>\n",
       "      <th>1005</th>\n",
       "      <td>jorge</td>\n",
       "      <td>29</td>\n",
       "      <td>argentina</td>\n",
       "      <td>7.5</td>\n",
       "      <td>america</td>\n",
       "    </tr>\n",
       "  </tbody>\n",
       "</table>\n",
       "</div>"
      ],
      "text/plain": [
       "properties   name  age    country  score continent\n",
       "user_id                                           \n",
       "1001         mark   55      Italy    4.5    Europe\n",
       "1002         john   33        usa    6.7   america\n",
       "1003          tim   41        usa    5.5   america\n",
       "1004         alan   40  australia    5.9   oceania\n",
       "1005        jorge   29  argentina    7.5   america"
      ]
     },
     "execution_count": 39,
     "metadata": {},
     "output_type": "execute_result"
    }
   ],
   "source": [
    "df"
   ]
  },
  {
   "cell_type": "markdown",
   "id": "6d0d8e88",
   "metadata": {},
   "source": [
    "# Data Manipulation"
   ]
  },
  {
   "cell_type": "markdown",
   "id": "3d79ea47",
   "metadata": {},
   "source": [
    "## Selecting data"
   ]
  },
  {
   "cell_type": "code",
   "execution_count": 40,
   "id": "a13c4e60",
   "metadata": {},
   "outputs": [
    {
     "data": {
      "text/plain": [
       "user_id\n",
       "1001     mark\n",
       "1002     john\n",
       "1003      tim\n",
       "1004     alan\n",
       "1005    jorge\n",
       "Name: name, dtype: object"
      ]
     },
     "execution_count": 40,
     "metadata": {},
     "output_type": "execute_result"
    }
   ],
   "source": [
    "df.loc[:,\"name\"] #Selecciona todos los valores existentes en la columna / serie \n",
    "#df.loc[1001,\"country\"] #un valor especifico de una columna especifica / scalar (por indice)"
   ]
  },
  {
   "cell_type": "code",
   "execution_count": 41,
   "id": "86892c28",
   "metadata": {},
   "outputs": [
    {
     "data": {
      "text/html": [
       "<div>\n",
       "<style scoped>\n",
       "    .dataframe tbody tr th:only-of-type {\n",
       "        vertical-align: middle;\n",
       "    }\n",
       "\n",
       "    .dataframe tbody tr th {\n",
       "        vertical-align: top;\n",
       "    }\n",
       "\n",
       "    .dataframe thead th {\n",
       "        text-align: right;\n",
       "    }\n",
       "</style>\n",
       "<table border=\"1\" class=\"dataframe\">\n",
       "  <thead>\n",
       "    <tr style=\"text-align: right;\">\n",
       "      <th>properties</th>\n",
       "      <th>name</th>\n",
       "    </tr>\n",
       "    <tr>\n",
       "      <th>user_id</th>\n",
       "      <th></th>\n",
       "    </tr>\n",
       "  </thead>\n",
       "  <tbody>\n",
       "    <tr>\n",
       "      <th>1001</th>\n",
       "      <td>mark</td>\n",
       "    </tr>\n",
       "    <tr>\n",
       "      <th>1002</th>\n",
       "      <td>john</td>\n",
       "    </tr>\n",
       "    <tr>\n",
       "      <th>1003</th>\n",
       "      <td>tim</td>\n",
       "    </tr>\n",
       "    <tr>\n",
       "      <th>1004</th>\n",
       "      <td>alan</td>\n",
       "    </tr>\n",
       "    <tr>\n",
       "      <th>1005</th>\n",
       "      <td>jorge</td>\n",
       "    </tr>\n",
       "  </tbody>\n",
       "</table>\n",
       "</div>"
      ],
      "text/plain": [
       "properties   name\n",
       "user_id          \n",
       "1001         mark\n",
       "1002         john\n",
       "1003          tim\n",
       "1004         alan\n",
       "1005        jorge"
      ]
     },
     "execution_count": 41,
     "metadata": {},
     "output_type": "execute_result"
    }
   ],
   "source": [
    "df.loc[:,[\"name\"]] #devuelve todos los valores de country como un dataframe"
   ]
  },
  {
   "cell_type": "code",
   "execution_count": 42,
   "id": "e2b1e7e9",
   "metadata": {},
   "outputs": [
    {
     "data": {
      "text/plain": [
       "user_id\n",
       "1001     mark\n",
       "1002     john\n",
       "1003      tim\n",
       "1004     alan\n",
       "1005    jorge\n",
       "Name: name, dtype: object"
      ]
     },
     "execution_count": 42,
     "metadata": {},
     "output_type": "execute_result"
    }
   ],
   "source": [
    "df[\"name\"]"
   ]
  },
  {
   "cell_type": "code",
   "execution_count": 43,
   "id": "ca52a6fd",
   "metadata": {},
   "outputs": [
    {
     "data": {
      "text/html": [
       "<div>\n",
       "<style scoped>\n",
       "    .dataframe tbody tr th:only-of-type {\n",
       "        vertical-align: middle;\n",
       "    }\n",
       "\n",
       "    .dataframe tbody tr th {\n",
       "        vertical-align: top;\n",
       "    }\n",
       "\n",
       "    .dataframe thead th {\n",
       "        text-align: right;\n",
       "    }\n",
       "</style>\n",
       "<table border=\"1\" class=\"dataframe\">\n",
       "  <thead>\n",
       "    <tr style=\"text-align: right;\">\n",
       "      <th>properties</th>\n",
       "      <th>name</th>\n",
       "    </tr>\n",
       "    <tr>\n",
       "      <th>user_id</th>\n",
       "      <th></th>\n",
       "    </tr>\n",
       "  </thead>\n",
       "  <tbody>\n",
       "    <tr>\n",
       "      <th>1001</th>\n",
       "      <td>mark</td>\n",
       "    </tr>\n",
       "    <tr>\n",
       "      <th>1002</th>\n",
       "      <td>john</td>\n",
       "    </tr>\n",
       "    <tr>\n",
       "      <th>1003</th>\n",
       "      <td>tim</td>\n",
       "    </tr>\n",
       "    <tr>\n",
       "      <th>1004</th>\n",
       "      <td>alan</td>\n",
       "    </tr>\n",
       "    <tr>\n",
       "      <th>1005</th>\n",
       "      <td>jorge</td>\n",
       "    </tr>\n",
       "  </tbody>\n",
       "</table>\n",
       "</div>"
      ],
      "text/plain": [
       "properties   name\n",
       "user_id          \n",
       "1001         mark\n",
       "1002         john\n",
       "1003          tim\n",
       "1004         alan\n",
       "1005        jorge"
      ]
     },
     "execution_count": 43,
     "metadata": {},
     "output_type": "execute_result"
    }
   ],
   "source": [
    "df[[\"name\"]] #shortcut para seleccionar columnas. Como serie (arriba) y como Dataframe (esta linea)"
   ]
  },
  {
   "cell_type": "code",
   "execution_count": 44,
   "id": "7282c555",
   "metadata": {},
   "outputs": [
    {
     "data": {
      "text/plain": [
       "'mark'"
      ]
     },
     "execution_count": 44,
     "metadata": {},
     "output_type": "execute_result"
    }
   ],
   "source": [
    "df.iloc[0,0] #seleccionar elementos mediante el uso de indices en vez de nombre df.iloc (iloc = integer loc)"
   ]
  },
  {
   "cell_type": "markdown",
   "id": "08dbf9f6",
   "metadata": {},
   "source": [
    "## Seleccion de data mediante booleanos"
   ]
  },
  {
   "cell_type": "code",
   "execution_count": 45,
   "id": "e5575b91",
   "metadata": {
    "scrolled": false
   },
   "outputs": [
    {
     "data": {
      "text/html": [
       "<div>\n",
       "<style scoped>\n",
       "    .dataframe tbody tr th:only-of-type {\n",
       "        vertical-align: middle;\n",
       "    }\n",
       "\n",
       "    .dataframe tbody tr th {\n",
       "        vertical-align: top;\n",
       "    }\n",
       "\n",
       "    .dataframe thead th {\n",
       "        text-align: right;\n",
       "    }\n",
       "</style>\n",
       "<table border=\"1\" class=\"dataframe\">\n",
       "  <thead>\n",
       "    <tr style=\"text-align: right;\">\n",
       "      <th>properties</th>\n",
       "      <th>name</th>\n",
       "      <th>age</th>\n",
       "      <th>country</th>\n",
       "      <th>score</th>\n",
       "      <th>continent</th>\n",
       "    </tr>\n",
       "    <tr>\n",
       "      <th>user_id</th>\n",
       "      <th></th>\n",
       "      <th></th>\n",
       "      <th></th>\n",
       "      <th></th>\n",
       "      <th></th>\n",
       "    </tr>\n",
       "  </thead>\n",
       "  <tbody>\n",
       "    <tr>\n",
       "      <th>1001</th>\n",
       "      <td>mark</td>\n",
       "      <td>55</td>\n",
       "      <td>Italy</td>\n",
       "      <td>4.5</td>\n",
       "      <td>Europe</td>\n",
       "    </tr>\n",
       "    <tr>\n",
       "      <th>1002</th>\n",
       "      <td>john</td>\n",
       "      <td>33</td>\n",
       "      <td>usa</td>\n",
       "      <td>6.7</td>\n",
       "      <td>america</td>\n",
       "    </tr>\n",
       "    <tr>\n",
       "      <th>1003</th>\n",
       "      <td>tim</td>\n",
       "      <td>41</td>\n",
       "      <td>usa</td>\n",
       "      <td>5.5</td>\n",
       "      <td>america</td>\n",
       "    </tr>\n",
       "    <tr>\n",
       "      <th>1004</th>\n",
       "      <td>alan</td>\n",
       "      <td>40</td>\n",
       "      <td>australia</td>\n",
       "      <td>5.9</td>\n",
       "      <td>oceania</td>\n",
       "    </tr>\n",
       "    <tr>\n",
       "      <th>1005</th>\n",
       "      <td>jorge</td>\n",
       "      <td>29</td>\n",
       "      <td>argentina</td>\n",
       "      <td>7.5</td>\n",
       "      <td>america</td>\n",
       "    </tr>\n",
       "  </tbody>\n",
       "</table>\n",
       "</div>"
      ],
      "text/plain": [
       "properties   name  age    country  score continent\n",
       "user_id                                           \n",
       "1001         mark   55      Italy    4.5    Europe\n",
       "1002         john   33        usa    6.7   america\n",
       "1003          tim   41        usa    5.5   america\n",
       "1004         alan   40  australia    5.9   oceania\n",
       "1005        jorge   29  argentina    7.5   america"
      ]
     },
     "execution_count": 45,
     "metadata": {},
     "output_type": "execute_result"
    }
   ],
   "source": [
    "df"
   ]
  },
  {
   "cell_type": "code",
   "execution_count": 49,
   "id": "953eef1f",
   "metadata": {},
   "outputs": [],
   "source": [
    "tf = (df[\"age\"] > 20) & (df[\"continent\"]==\"oceania\")"
   ]
  },
  {
   "cell_type": "code",
   "execution_count": 50,
   "id": "bae612ed",
   "metadata": {},
   "outputs": [
    {
     "data": {
      "text/html": [
       "<div>\n",
       "<style scoped>\n",
       "    .dataframe tbody tr th:only-of-type {\n",
       "        vertical-align: middle;\n",
       "    }\n",
       "\n",
       "    .dataframe tbody tr th {\n",
       "        vertical-align: top;\n",
       "    }\n",
       "\n",
       "    .dataframe thead th {\n",
       "        text-align: right;\n",
       "    }\n",
       "</style>\n",
       "<table border=\"1\" class=\"dataframe\">\n",
       "  <thead>\n",
       "    <tr style=\"text-align: right;\">\n",
       "      <th>properties</th>\n",
       "      <th>name</th>\n",
       "      <th>age</th>\n",
       "      <th>country</th>\n",
       "      <th>score</th>\n",
       "      <th>continent</th>\n",
       "    </tr>\n",
       "    <tr>\n",
       "      <th>user_id</th>\n",
       "      <th></th>\n",
       "      <th></th>\n",
       "      <th></th>\n",
       "      <th></th>\n",
       "      <th></th>\n",
       "    </tr>\n",
       "  </thead>\n",
       "  <tbody>\n",
       "    <tr>\n",
       "      <th>1004</th>\n",
       "      <td>alan</td>\n",
       "      <td>40</td>\n",
       "      <td>australia</td>\n",
       "      <td>5.9</td>\n",
       "      <td>oceania</td>\n",
       "    </tr>\n",
       "  </tbody>\n",
       "</table>\n",
       "</div>"
      ],
      "text/plain": [
       "properties  name  age    country  score continent\n",
       "user_id                                          \n",
       "1004        alan   40  australia    5.9   oceania"
      ]
     },
     "execution_count": 50,
     "metadata": {},
     "output_type": "execute_result"
    }
   ],
   "source": [
    "df.loc[tf]"
   ]
  },
  {
   "cell_type": "code",
   "execution_count": 51,
   "id": "0fa0cb39",
   "metadata": {},
   "outputs": [],
   "source": [
    "tf = (df[\"age\"] > 20) & (df[\"continent\"].isin([\"Europe\", \"oceania\"]))"
   ]
  },
  {
   "cell_type": "code",
   "execution_count": 53,
   "id": "3ec2da0f",
   "metadata": {},
   "outputs": [
    {
     "data": {
      "text/html": [
       "<div>\n",
       "<style scoped>\n",
       "    .dataframe tbody tr th:only-of-type {\n",
       "        vertical-align: middle;\n",
       "    }\n",
       "\n",
       "    .dataframe tbody tr th {\n",
       "        vertical-align: top;\n",
       "    }\n",
       "\n",
       "    .dataframe thead th {\n",
       "        text-align: right;\n",
       "    }\n",
       "</style>\n",
       "<table border=\"1\" class=\"dataframe\">\n",
       "  <thead>\n",
       "    <tr style=\"text-align: right;\">\n",
       "      <th>properties</th>\n",
       "      <th>name</th>\n",
       "      <th>age</th>\n",
       "      <th>country</th>\n",
       "      <th>score</th>\n",
       "      <th>continent</th>\n",
       "    </tr>\n",
       "    <tr>\n",
       "      <th>user_id</th>\n",
       "      <th></th>\n",
       "      <th></th>\n",
       "      <th></th>\n",
       "      <th></th>\n",
       "      <th></th>\n",
       "    </tr>\n",
       "  </thead>\n",
       "  <tbody>\n",
       "    <tr>\n",
       "      <th>1001</th>\n",
       "      <td>mark</td>\n",
       "      <td>55</td>\n",
       "      <td>Italy</td>\n",
       "      <td>4.5</td>\n",
       "      <td>Europe</td>\n",
       "    </tr>\n",
       "    <tr>\n",
       "      <th>1004</th>\n",
       "      <td>alan</td>\n",
       "      <td>40</td>\n",
       "      <td>australia</td>\n",
       "      <td>5.9</td>\n",
       "      <td>oceania</td>\n",
       "    </tr>\n",
       "  </tbody>\n",
       "</table>\n",
       "</div>"
      ],
      "text/plain": [
       "properties  name  age    country  score continent\n",
       "user_id                                          \n",
       "1001        mark   55      Italy    4.5    Europe\n",
       "1004        alan   40  australia    5.9   oceania"
      ]
     },
     "execution_count": 53,
     "metadata": {},
     "output_type": "execute_result"
    }
   ],
   "source": [
    "df.loc[tf]"
   ]
  },
  {
   "cell_type": "markdown",
   "id": "01ce7d45",
   "metadata": {},
   "source": [
    "## Seleccion mediante booleanos con sintaxis propia"
   ]
  },
  {
   "cell_type": "code",
   "execution_count": 56,
   "id": "2c4a1673",
   "metadata": {},
   "outputs": [],
   "source": [
    "#Ejemplo de rainfall anual en tres ciudades\n",
    "rainfall = pd.DataFrame(data={\n",
    "    \"citi 1\": [300.1, 100.2],\n",
    "    \"citi 2\": [400.3, 300.4],\n",
    "    \"citi 3\": [1000.5, 1100.6]\n",
    "})"
   ]
  },
  {
   "cell_type": "code",
   "execution_count": 58,
   "id": "cf3e1b64",
   "metadata": {},
   "outputs": [
    {
     "data": {
      "text/html": [
       "<div>\n",
       "<style scoped>\n",
       "    .dataframe tbody tr th:only-of-type {\n",
       "        vertical-align: middle;\n",
       "    }\n",
       "\n",
       "    .dataframe tbody tr th {\n",
       "        vertical-align: top;\n",
       "    }\n",
       "\n",
       "    .dataframe thead th {\n",
       "        text-align: right;\n",
       "    }\n",
       "</style>\n",
       "<table border=\"1\" class=\"dataframe\">\n",
       "  <thead>\n",
       "    <tr style=\"text-align: right;\">\n",
       "      <th></th>\n",
       "      <th>citi 1</th>\n",
       "      <th>citi 2</th>\n",
       "      <th>citi 3</th>\n",
       "    </tr>\n",
       "  </thead>\n",
       "  <tbody>\n",
       "    <tr>\n",
       "      <th>0</th>\n",
       "      <td>True</td>\n",
       "      <td>False</td>\n",
       "      <td>False</td>\n",
       "    </tr>\n",
       "    <tr>\n",
       "      <th>1</th>\n",
       "      <td>True</td>\n",
       "      <td>True</td>\n",
       "      <td>False</td>\n",
       "    </tr>\n",
       "  </tbody>\n",
       "</table>\n",
       "</div>"
      ],
      "text/plain": [
       "   citi 1  citi 2  citi 3\n",
       "0    True   False   False\n",
       "1    True    True   False"
      ]
     },
     "execution_count": 58,
     "metadata": {},
     "output_type": "execute_result"
    }
   ],
   "source": [
    "rainfall < 400"
   ]
  },
  {
   "cell_type": "code",
   "execution_count": 62,
   "id": "8fb236c0",
   "metadata": {},
   "outputs": [
    {
     "data": {
      "text/html": [
       "<div>\n",
       "<style scoped>\n",
       "    .dataframe tbody tr th:only-of-type {\n",
       "        vertical-align: middle;\n",
       "    }\n",
       "\n",
       "    .dataframe tbody tr th {\n",
       "        vertical-align: top;\n",
       "    }\n",
       "\n",
       "    .dataframe thead th {\n",
       "        text-align: right;\n",
       "    }\n",
       "</style>\n",
       "<table border=\"1\" class=\"dataframe\">\n",
       "  <thead>\n",
       "    <tr style=\"text-align: right;\">\n",
       "      <th></th>\n",
       "      <th>citi 1</th>\n",
       "      <th>citi 2</th>\n",
       "      <th>citi 3</th>\n",
       "    </tr>\n",
       "  </thead>\n",
       "  <tbody>\n",
       "    <tr>\n",
       "      <th>0</th>\n",
       "      <td>300.1</td>\n",
       "      <td>NaN</td>\n",
       "      <td>NaN</td>\n",
       "    </tr>\n",
       "    <tr>\n",
       "      <th>1</th>\n",
       "      <td>100.2</td>\n",
       "      <td>300.4</td>\n",
       "      <td>NaN</td>\n",
       "    </tr>\n",
       "  </tbody>\n",
       "</table>\n",
       "</div>"
      ],
      "text/plain": [
       "   citi 1  citi 2  citi 3\n",
       "0   300.1     NaN     NaN\n",
       "1   100.2   300.4     NaN"
      ]
     },
     "execution_count": 62,
     "metadata": {},
     "output_type": "execute_result"
    }
   ],
   "source": [
    "rainfall[rainfall < 400]"
   ]
  },
  {
   "cell_type": "markdown",
   "id": "bc78ad65",
   "metadata": {},
   "source": [
    "## multi index selection"
   ]
  },
  {
   "cell_type": "code",
   "execution_count": 63,
   "id": "d83630fd",
   "metadata": {},
   "outputs": [
    {
     "data": {
      "text/html": [
       "<div>\n",
       "<style scoped>\n",
       "    .dataframe tbody tr th:only-of-type {\n",
       "        vertical-align: middle;\n",
       "    }\n",
       "\n",
       "    .dataframe tbody tr th {\n",
       "        vertical-align: top;\n",
       "    }\n",
       "\n",
       "    .dataframe thead th {\n",
       "        text-align: right;\n",
       "    }\n",
       "</style>\n",
       "<table border=\"1\" class=\"dataframe\">\n",
       "  <thead>\n",
       "    <tr style=\"text-align: right;\">\n",
       "      <th></th>\n",
       "      <th>properties</th>\n",
       "      <th>user_id</th>\n",
       "      <th>name</th>\n",
       "      <th>age</th>\n",
       "      <th>score</th>\n",
       "    </tr>\n",
       "    <tr>\n",
       "      <th>continent</th>\n",
       "      <th>country</th>\n",
       "      <th></th>\n",
       "      <th></th>\n",
       "      <th></th>\n",
       "      <th></th>\n",
       "    </tr>\n",
       "  </thead>\n",
       "  <tbody>\n",
       "    <tr>\n",
       "      <th>Europe</th>\n",
       "      <th>Italy</th>\n",
       "      <td>1001</td>\n",
       "      <td>mark</td>\n",
       "      <td>55</td>\n",
       "      <td>4.5</td>\n",
       "    </tr>\n",
       "    <tr>\n",
       "      <th rowspan=\"3\" valign=\"top\">america</th>\n",
       "      <th>argentina</th>\n",
       "      <td>1005</td>\n",
       "      <td>jorge</td>\n",
       "      <td>29</td>\n",
       "      <td>7.5</td>\n",
       "    </tr>\n",
       "    <tr>\n",
       "      <th>usa</th>\n",
       "      <td>1002</td>\n",
       "      <td>john</td>\n",
       "      <td>33</td>\n",
       "      <td>6.7</td>\n",
       "    </tr>\n",
       "    <tr>\n",
       "      <th>usa</th>\n",
       "      <td>1003</td>\n",
       "      <td>tim</td>\n",
       "      <td>41</td>\n",
       "      <td>5.5</td>\n",
       "    </tr>\n",
       "    <tr>\n",
       "      <th>oceania</th>\n",
       "      <th>australia</th>\n",
       "      <td>1004</td>\n",
       "      <td>alan</td>\n",
       "      <td>40</td>\n",
       "      <td>5.9</td>\n",
       "    </tr>\n",
       "  </tbody>\n",
       "</table>\n",
       "</div>"
      ],
      "text/plain": [
       "properties           user_id   name  age  score\n",
       "continent country                              \n",
       "Europe    Italy         1001   mark   55    4.5\n",
       "america   argentina     1005  jorge   29    7.5\n",
       "          usa           1002   john   33    6.7\n",
       "          usa           1003    tim   41    5.5\n",
       "oceania   australia     1004   alan   40    5.9"
      ]
     },
     "execution_count": 63,
     "metadata": {},
     "output_type": "execute_result"
    }
   ],
   "source": [
    "df_multi = df.reset_index().set_index([\"continent\", \"country\"])\n",
    "df_multi = df_multi.sort_index()\n",
    "df_multi"
   ]
  },
  {
   "cell_type": "markdown",
   "id": "58f54771",
   "metadata": {},
   "source": [
    "# Manipulacion de data"
   ]
  },
  {
   "cell_type": "code",
   "execution_count": 64,
   "id": "76f7d358",
   "metadata": {},
   "outputs": [],
   "source": [
    "df2 = df.copy()"
   ]
  },
  {
   "cell_type": "code",
   "execution_count": 68,
   "id": "c62b26bc",
   "metadata": {},
   "outputs": [],
   "source": [
    "df2.loc[1002, \"name\"]=\"CHUCHU\" #se puede seleccionar un valor a cambiar mediante indice y columna"
   ]
  },
  {
   "cell_type": "code",
   "execution_count": 69,
   "id": "efffb0b9",
   "metadata": {},
   "outputs": [
    {
     "data": {
      "text/html": [
       "<div>\n",
       "<style scoped>\n",
       "    .dataframe tbody tr th:only-of-type {\n",
       "        vertical-align: middle;\n",
       "    }\n",
       "\n",
       "    .dataframe tbody tr th {\n",
       "        vertical-align: top;\n",
       "    }\n",
       "\n",
       "    .dataframe thead th {\n",
       "        text-align: right;\n",
       "    }\n",
       "</style>\n",
       "<table border=\"1\" class=\"dataframe\">\n",
       "  <thead>\n",
       "    <tr style=\"text-align: right;\">\n",
       "      <th>properties</th>\n",
       "      <th>name</th>\n",
       "      <th>age</th>\n",
       "      <th>country</th>\n",
       "      <th>score</th>\n",
       "      <th>continent</th>\n",
       "    </tr>\n",
       "    <tr>\n",
       "      <th>user_id</th>\n",
       "      <th></th>\n",
       "      <th></th>\n",
       "      <th></th>\n",
       "      <th></th>\n",
       "      <th></th>\n",
       "    </tr>\n",
       "  </thead>\n",
       "  <tbody>\n",
       "    <tr>\n",
       "      <th>1001</th>\n",
       "      <td>mark</td>\n",
       "      <td>55</td>\n",
       "      <td>Italy</td>\n",
       "      <td>4.5</td>\n",
       "      <td>Europe</td>\n",
       "    </tr>\n",
       "    <tr>\n",
       "      <th>1002</th>\n",
       "      <td>CHUCHU</td>\n",
       "      <td>33</td>\n",
       "      <td>usa</td>\n",
       "      <td>6.7</td>\n",
       "      <td>america</td>\n",
       "    </tr>\n",
       "    <tr>\n",
       "      <th>1003</th>\n",
       "      <td>tim</td>\n",
       "      <td>41</td>\n",
       "      <td>usa</td>\n",
       "      <td>5.5</td>\n",
       "      <td>america</td>\n",
       "    </tr>\n",
       "    <tr>\n",
       "      <th>1004</th>\n",
       "      <td>alan</td>\n",
       "      <td>40</td>\n",
       "      <td>australia</td>\n",
       "      <td>5.9</td>\n",
       "      <td>oceania</td>\n",
       "    </tr>\n",
       "    <tr>\n",
       "      <th>1005</th>\n",
       "      <td>jorge</td>\n",
       "      <td>29</td>\n",
       "      <td>argentina</td>\n",
       "      <td>7.5</td>\n",
       "      <td>america</td>\n",
       "    </tr>\n",
       "  </tbody>\n",
       "</table>\n",
       "</div>"
      ],
      "text/plain": [
       "properties    name  age    country  score continent\n",
       "user_id                                            \n",
       "1001          mark   55      Italy    4.5    Europe\n",
       "1002        CHUCHU   33        usa    6.7   america\n",
       "1003           tim   41        usa    5.5   america\n",
       "1004          alan   40  australia    5.9   oceania\n",
       "1005         jorge   29  argentina    7.5   america"
      ]
     },
     "execution_count": 69,
     "metadata": {},
     "output_type": "execute_result"
    }
   ],
   "source": [
    "df2"
   ]
  },
  {
   "cell_type": "code",
   "execution_count": 77,
   "id": "cc1dd313",
   "metadata": {},
   "outputs": [],
   "source": [
    "#o de a varios\n",
    "df2.loc[[1001, 1002], \"score\"]=[9,0]"
   ]
  },
  {
   "cell_type": "code",
   "execution_count": 78,
   "id": "4d1a0794",
   "metadata": {},
   "outputs": [
    {
     "data": {
      "text/html": [
       "<div>\n",
       "<style scoped>\n",
       "    .dataframe tbody tr th:only-of-type {\n",
       "        vertical-align: middle;\n",
       "    }\n",
       "\n",
       "    .dataframe tbody tr th {\n",
       "        vertical-align: top;\n",
       "    }\n",
       "\n",
       "    .dataframe thead th {\n",
       "        text-align: right;\n",
       "    }\n",
       "</style>\n",
       "<table border=\"1\" class=\"dataframe\">\n",
       "  <thead>\n",
       "    <tr style=\"text-align: right;\">\n",
       "      <th>properties</th>\n",
       "      <th>name</th>\n",
       "      <th>age</th>\n",
       "      <th>country</th>\n",
       "      <th>score</th>\n",
       "      <th>continent</th>\n",
       "    </tr>\n",
       "    <tr>\n",
       "      <th>user_id</th>\n",
       "      <th></th>\n",
       "      <th></th>\n",
       "      <th></th>\n",
       "      <th></th>\n",
       "      <th></th>\n",
       "    </tr>\n",
       "  </thead>\n",
       "  <tbody>\n",
       "    <tr>\n",
       "      <th>1001</th>\n",
       "      <td>mark</td>\n",
       "      <td>55</td>\n",
       "      <td>Italy</td>\n",
       "      <td>9.0</td>\n",
       "      <td>Europe</td>\n",
       "    </tr>\n",
       "    <tr>\n",
       "      <th>1002</th>\n",
       "      <td>xxx</td>\n",
       "      <td>33</td>\n",
       "      <td>usa</td>\n",
       "      <td>0.0</td>\n",
       "      <td>america</td>\n",
       "    </tr>\n",
       "    <tr>\n",
       "      <th>1003</th>\n",
       "      <td>xxx</td>\n",
       "      <td>41</td>\n",
       "      <td>usa</td>\n",
       "      <td>5.5</td>\n",
       "      <td>america</td>\n",
       "    </tr>\n",
       "    <tr>\n",
       "      <th>1004</th>\n",
       "      <td>alan</td>\n",
       "      <td>40</td>\n",
       "      <td>australia</td>\n",
       "      <td>5.9</td>\n",
       "      <td>oceania</td>\n",
       "    </tr>\n",
       "    <tr>\n",
       "      <th>1005</th>\n",
       "      <td>xxx</td>\n",
       "      <td>29</td>\n",
       "      <td>argentina</td>\n",
       "      <td>7.5</td>\n",
       "      <td>america</td>\n",
       "    </tr>\n",
       "  </tbody>\n",
       "</table>\n",
       "</div>"
      ],
      "text/plain": [
       "properties  name  age    country  score continent\n",
       "user_id                                          \n",
       "1001        mark   55      Italy    9.0    Europe\n",
       "1002         xxx   33        usa    0.0   america\n",
       "1003         xxx   41        usa    5.5   america\n",
       "1004        alan   40  australia    5.9   oceania\n",
       "1005         xxx   29  argentina    7.5   america"
      ]
     },
     "execution_count": 78,
     "metadata": {},
     "output_type": "execute_result"
    }
   ],
   "source": [
    "df2"
   ]
  },
  {
   "cell_type": "code",
   "execution_count": 81,
   "id": "87aef50c",
   "metadata": {},
   "outputs": [],
   "source": [
    "#set de data por boolean indexing AH RE \n",
    "tf = (df2[\"age\"] < 35) | (df2[\"continent\"] == \"america\")\n",
    "df2.loc[tf, \"name\"] = \"xxx\"\n"
   ]
  },
  {
   "cell_type": "code",
   "execution_count": 82,
   "id": "19ce6efb",
   "metadata": {},
   "outputs": [
    {
     "data": {
      "text/html": [
       "<div>\n",
       "<style scoped>\n",
       "    .dataframe tbody tr th:only-of-type {\n",
       "        vertical-align: middle;\n",
       "    }\n",
       "\n",
       "    .dataframe tbody tr th {\n",
       "        vertical-align: top;\n",
       "    }\n",
       "\n",
       "    .dataframe thead th {\n",
       "        text-align: right;\n",
       "    }\n",
       "</style>\n",
       "<table border=\"1\" class=\"dataframe\">\n",
       "  <thead>\n",
       "    <tr style=\"text-align: right;\">\n",
       "      <th>properties</th>\n",
       "      <th>name</th>\n",
       "      <th>age</th>\n",
       "      <th>country</th>\n",
       "      <th>score</th>\n",
       "      <th>continent</th>\n",
       "    </tr>\n",
       "    <tr>\n",
       "      <th>user_id</th>\n",
       "      <th></th>\n",
       "      <th></th>\n",
       "      <th></th>\n",
       "      <th></th>\n",
       "      <th></th>\n",
       "    </tr>\n",
       "  </thead>\n",
       "  <tbody>\n",
       "    <tr>\n",
       "      <th>1001</th>\n",
       "      <td>mark</td>\n",
       "      <td>55</td>\n",
       "      <td>Italy</td>\n",
       "      <td>9.0</td>\n",
       "      <td>Europe</td>\n",
       "    </tr>\n",
       "    <tr>\n",
       "      <th>1002</th>\n",
       "      <td>xxx</td>\n",
       "      <td>33</td>\n",
       "      <td>usa</td>\n",
       "      <td>0.0</td>\n",
       "      <td>america</td>\n",
       "    </tr>\n",
       "    <tr>\n",
       "      <th>1003</th>\n",
       "      <td>xxx</td>\n",
       "      <td>41</td>\n",
       "      <td>usa</td>\n",
       "      <td>5.5</td>\n",
       "      <td>america</td>\n",
       "    </tr>\n",
       "    <tr>\n",
       "      <th>1004</th>\n",
       "      <td>alan</td>\n",
       "      <td>40</td>\n",
       "      <td>australia</td>\n",
       "      <td>5.9</td>\n",
       "      <td>oceania</td>\n",
       "    </tr>\n",
       "    <tr>\n",
       "      <th>1005</th>\n",
       "      <td>xxx</td>\n",
       "      <td>29</td>\n",
       "      <td>argentina</td>\n",
       "      <td>7.5</td>\n",
       "      <td>america</td>\n",
       "    </tr>\n",
       "  </tbody>\n",
       "</table>\n",
       "</div>"
      ],
      "text/plain": [
       "properties  name  age    country  score continent\n",
       "user_id                                          \n",
       "1001        mark   55      Italy    9.0    Europe\n",
       "1002         xxx   33        usa    0.0   america\n",
       "1003         xxx   41        usa    5.5   america\n",
       "1004        alan   40  australia    5.9   oceania\n",
       "1005         xxx   29  argentina    7.5   america"
      ]
     },
     "execution_count": 82,
     "metadata": {},
     "output_type": "execute_result"
    }
   ],
   "source": [
    "df2"
   ]
  },
  {
   "cell_type": "code",
   "execution_count": 84,
   "id": "a4432610",
   "metadata": {},
   "outputs": [],
   "source": [
    "rainfall2 = rainfall.copy()"
   ]
  },
  {
   "cell_type": "code",
   "execution_count": 87,
   "id": "14c97023",
   "metadata": {},
   "outputs": [],
   "source": [
    "rainfall2[rainfall2 < 400] = 0"
   ]
  },
  {
   "cell_type": "code",
   "execution_count": 88,
   "id": "922913dd",
   "metadata": {},
   "outputs": [
    {
     "data": {
      "text/html": [
       "<div>\n",
       "<style scoped>\n",
       "    .dataframe tbody tr th:only-of-type {\n",
       "        vertical-align: middle;\n",
       "    }\n",
       "\n",
       "    .dataframe tbody tr th {\n",
       "        vertical-align: top;\n",
       "    }\n",
       "\n",
       "    .dataframe thead th {\n",
       "        text-align: right;\n",
       "    }\n",
       "</style>\n",
       "<table border=\"1\" class=\"dataframe\">\n",
       "  <thead>\n",
       "    <tr style=\"text-align: right;\">\n",
       "      <th></th>\n",
       "      <th>citi 1</th>\n",
       "      <th>citi 2</th>\n",
       "      <th>citi 3</th>\n",
       "    </tr>\n",
       "  </thead>\n",
       "  <tbody>\n",
       "    <tr>\n",
       "      <th>0</th>\n",
       "      <td>0.0</td>\n",
       "      <td>400.3</td>\n",
       "      <td>1000.5</td>\n",
       "    </tr>\n",
       "    <tr>\n",
       "      <th>1</th>\n",
       "      <td>0.0</td>\n",
       "      <td>0.0</td>\n",
       "      <td>1100.6</td>\n",
       "    </tr>\n",
       "  </tbody>\n",
       "</table>\n",
       "</div>"
      ],
      "text/plain": [
       "   citi 1  citi 2  citi 3\n",
       "0     0.0   400.3  1000.5\n",
       "1     0.0     0.0  1100.6"
      ]
     },
     "execution_count": 88,
     "metadata": {},
     "output_type": "execute_result"
    }
   ],
   "source": [
    "rainfall2"
   ]
  },
  {
   "cell_type": "code",
   "execution_count": 91,
   "id": "04f9e76d",
   "metadata": {},
   "outputs": [
    {
     "data": {
      "text/html": [
       "<div>\n",
       "<style scoped>\n",
       "    .dataframe tbody tr th:only-of-type {\n",
       "        vertical-align: middle;\n",
       "    }\n",
       "\n",
       "    .dataframe tbody tr th {\n",
       "        vertical-align: top;\n",
       "    }\n",
       "\n",
       "    .dataframe thead th {\n",
       "        text-align: right;\n",
       "    }\n",
       "</style>\n",
       "<table border=\"1\" class=\"dataframe\">\n",
       "  <thead>\n",
       "    <tr style=\"text-align: right;\">\n",
       "      <th>properties</th>\n",
       "      <th>name</th>\n",
       "      <th>age</th>\n",
       "      <th>country</th>\n",
       "      <th>score</th>\n",
       "      <th>continent</th>\n",
       "    </tr>\n",
       "    <tr>\n",
       "      <th>user_id</th>\n",
       "      <th></th>\n",
       "      <th></th>\n",
       "      <th></th>\n",
       "      <th></th>\n",
       "      <th></th>\n",
       "    </tr>\n",
       "  </thead>\n",
       "  <tbody>\n",
       "    <tr>\n",
       "      <th>1001</th>\n",
       "      <td>mark</td>\n",
       "      <td>55</td>\n",
       "      <td>Italy</td>\n",
       "      <td>9.0</td>\n",
       "      <td>Europe</td>\n",
       "    </tr>\n",
       "    <tr>\n",
       "      <th>1002</th>\n",
       "      <td>xxx</td>\n",
       "      <td>33</td>\n",
       "      <td>usa</td>\n",
       "      <td>0.0</td>\n",
       "      <td>america</td>\n",
       "    </tr>\n",
       "    <tr>\n",
       "      <th>1003</th>\n",
       "      <td>xxx</td>\n",
       "      <td>41</td>\n",
       "      <td>usa</td>\n",
       "      <td>5.5</td>\n",
       "      <td>america</td>\n",
       "    </tr>\n",
       "    <tr>\n",
       "      <th>1004</th>\n",
       "      <td>alan</td>\n",
       "      <td>40</td>\n",
       "      <td>australia</td>\n",
       "      <td>5.9</td>\n",
       "      <td>oceania</td>\n",
       "    </tr>\n",
       "    <tr>\n",
       "      <th>1005</th>\n",
       "      <td>xxx</td>\n",
       "      <td>29</td>\n",
       "      <td>argentina</td>\n",
       "      <td>7.5</td>\n",
       "      <td>america</td>\n",
       "    </tr>\n",
       "  </tbody>\n",
       "</table>\n",
       "</div>"
      ],
      "text/plain": [
       "properties  name  age    country  score continent\n",
       "user_id                                          \n",
       "1001        mark   55      Italy    9.0    Europe\n",
       "1002         xxx   33        usa    0.0   america\n",
       "1003         xxx   41        usa    5.5   america\n",
       "1004        alan   40  australia    5.9   oceania\n",
       "1005         xxx   29  argentina    7.5   america"
      ]
     },
     "execution_count": 91,
     "metadata": {},
     "output_type": "execute_result"
    }
   ],
   "source": [
    "df2"
   ]
  },
  {
   "cell_type": "code",
   "execution_count": 104,
   "id": "b81fcb28",
   "metadata": {},
   "outputs": [],
   "source": [
    "df2 = df2.replace(\"usa\", \"US\")"
   ]
  },
  {
   "cell_type": "code",
   "execution_count": 105,
   "id": "7762e8fc",
   "metadata": {},
   "outputs": [
    {
     "data": {
      "text/html": [
       "<div>\n",
       "<style scoped>\n",
       "    .dataframe tbody tr th:only-of-type {\n",
       "        vertical-align: middle;\n",
       "    }\n",
       "\n",
       "    .dataframe tbody tr th {\n",
       "        vertical-align: top;\n",
       "    }\n",
       "\n",
       "    .dataframe thead th {\n",
       "        text-align: right;\n",
       "    }\n",
       "</style>\n",
       "<table border=\"1\" class=\"dataframe\">\n",
       "  <thead>\n",
       "    <tr style=\"text-align: right;\">\n",
       "      <th>properties</th>\n",
       "      <th>name</th>\n",
       "      <th>age</th>\n",
       "      <th>country</th>\n",
       "      <th>score</th>\n",
       "      <th>continent</th>\n",
       "    </tr>\n",
       "    <tr>\n",
       "      <th>user_id</th>\n",
       "      <th></th>\n",
       "      <th></th>\n",
       "      <th></th>\n",
       "      <th></th>\n",
       "      <th></th>\n",
       "    </tr>\n",
       "  </thead>\n",
       "  <tbody>\n",
       "    <tr>\n",
       "      <th>1001</th>\n",
       "      <td>mark</td>\n",
       "      <td>55</td>\n",
       "      <td>Italy</td>\n",
       "      <td>9.0</td>\n",
       "      <td>Europe</td>\n",
       "    </tr>\n",
       "    <tr>\n",
       "      <th>1002</th>\n",
       "      <td>xxx</td>\n",
       "      <td>33</td>\n",
       "      <td>US</td>\n",
       "      <td>0.0</td>\n",
       "      <td>america</td>\n",
       "    </tr>\n",
       "    <tr>\n",
       "      <th>1003</th>\n",
       "      <td>xxx</td>\n",
       "      <td>41</td>\n",
       "      <td>US</td>\n",
       "      <td>5.5</td>\n",
       "      <td>america</td>\n",
       "    </tr>\n",
       "    <tr>\n",
       "      <th>1004</th>\n",
       "      <td>alan</td>\n",
       "      <td>40</td>\n",
       "      <td>australia</td>\n",
       "      <td>5.9</td>\n",
       "      <td>oceania</td>\n",
       "    </tr>\n",
       "    <tr>\n",
       "      <th>1005</th>\n",
       "      <td>xxx</td>\n",
       "      <td>29</td>\n",
       "      <td>argentina</td>\n",
       "      <td>7.5</td>\n",
       "      <td>america</td>\n",
       "    </tr>\n",
       "  </tbody>\n",
       "</table>\n",
       "</div>"
      ],
      "text/plain": [
       "properties  name  age    country  score continent\n",
       "user_id                                          \n",
       "1001        mark   55      Italy    9.0    Europe\n",
       "1002         xxx   33         US    0.0   america\n",
       "1003         xxx   41         US    5.5   america\n",
       "1004        alan   40  australia    5.9   oceania\n",
       "1005         xxx   29  argentina    7.5   america"
      ]
     },
     "execution_count": 105,
     "metadata": {},
     "output_type": "execute_result"
    }
   ],
   "source": [
    "df2"
   ]
  },
  {
   "cell_type": "code",
   "execution_count": null,
   "id": "f0d425ec",
   "metadata": {},
   "outputs": [],
   "source": []
  }
 ],
 "metadata": {
  "kernelspec": {
   "display_name": "Python 3 (ipykernel)",
   "language": "python",
   "name": "python3"
  },
  "language_info": {
   "codemirror_mode": {
    "name": "ipython",
    "version": 3
   },
   "file_extension": ".py",
   "mimetype": "text/x-python",
   "name": "python",
   "nbconvert_exporter": "python",
   "pygments_lexer": "ipython3",
   "version": "3.9.13"
  }
 },
 "nbformat": 4,
 "nbformat_minor": 5
}
